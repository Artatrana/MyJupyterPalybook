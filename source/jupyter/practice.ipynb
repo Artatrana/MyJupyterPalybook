{
 "cells": [
  {
   "cell_type": "markdown",
   "id": "cf560ba3",
   "metadata": {},
   "source": [
    "### Question 1\n",
    "#### Write a program which will find all such numbers which are divisible by 7 but are not a multiple of 5, between 2000 and 3200 (both included).The numbers obtained should be printed in a comma-separated sequence on a single line."
   ]
  },
  {
   "cell_type": "code",
   "execution_count": 11,
   "id": "7e88033a",
   "metadata": {},
   "outputs": [
    {
     "name": "stdout",
     "output_type": "stream",
     "text": [
      "2002,2009,2016,2023,2037,2044,2051,2058,2072,2079,2086,2093,2107,2114,2121,2128,2142,2149,2156,2163,2177,2184,2191,2198,2212,2219,2226,2233,2247,2254,2261,2268,2282,2289,2296,2303,2317,2324,2331,2338,2352,2359,2366,2373,2387,2394,2401,2408,2422,2429,2436,2443,2457,2464,2471,2478,2492,2499,2506,2513,2527,2534,2541,2548,2562,2569,2576,2583,2597,2604,2611,2618,2632,2639,2646,2653,2667,2674,2681,2688,2702,2709,2716,2723,2737,2744,2751,2758,2772,2779,2786,2793,2807,2814,2821,2828,2842,2849,2856,2863,2877,2884,2891,2898,2912,2919,2926,2933,2947,2954,2961,2968,2982,2989,2996,3003,3017,3024,3031,3038,3052,3059,3066,3073,3087,3094,3101,3108,3122,3129,3136,3143,3157,3164,3171,3178,3192,3199,\b\n"
     ]
    }
   ],
   "source": [
    "for num in range(2000,3201):\n",
    "    if (num%7 == 0 and num%5!=0):\n",
    "        print (num, end=\",\")\n",
    "print(\"\\b\")"
   ]
  },
  {
   "cell_type": "code",
   "execution_count": 17,
   "id": "dccab414",
   "metadata": {},
   "outputs": [
    {
     "name": "stdout",
     "output_type": "stream",
     "text": [
      "2002,2009,2016,2023,2037,2044,2051,2058,2072,2079,2086,2093,2107,2114,2121,2128,2142,2149,2156,2163,2177,2184,2191,2198,2212,2219,2226,2233,2247,2254,2261,2268,2282,2289,2296,2303,2317,2324,2331,2338,2352,2359,2366,2373,2387,2394,2401,2408,2422,2429,2436,2443,2457,2464,2471,2478,2492,2499,2506,2513,2527,2534,2541,2548,2562,2569,2576,2583,2597,2604,2611,2618,2632,2639,2646,2653,2667,2674,2681,2688,2702,2709,2716,2723,2737,2744,2751,2758,2772,2779,2786,2793,2807,2814,2821,2828,2842,2849,2856,2863,2877,2884,2891,2898,2912,2919,2926,2933,2947,2954,2961,2968,2982,2989,2996,3003,3017,3024,3031,3038,3052,3059,3066,3073,3087,3094,3101,3108,3122,3129,3136,3143,3157,3164,3171,3178,3192,3199\n"
     ]
    }
   ],
   "source": [
    "print(*(i  for i in range(2000,3201) if i %7 == 0 and i %5!=0 ), sep=\",\")"
   ]
  },
  {
   "cell_type": "markdown",
   "id": "dc740620",
   "metadata": {},
   "source": [
    "### Question 2\n",
    "#### Write a program which can compute the factorial of a given numbers.The results should be printed in a comma-separated sequence on a single line.Suppose the following input is supplied to the program: 8 Then, the output should be:40320\n"
   ]
  },
  {
   "cell_type": "code",
   "execution_count": 24,
   "id": "619159ae",
   "metadata": {},
   "outputs": [
    {
     "name": "stdout",
     "output_type": "stream",
     "text": [
      "8,40320\n"
     ]
    }
   ],
   "source": [
    "def factorial_1(n):\n",
    "    fact = 1\n",
    "    for i in range(1,n+1):\n",
    "        fact *= i\n",
    "    print(n, fact, sep=\",\")\n",
    "\n",
    "factorial_1(8)"
   ]
  },
  {
   "cell_type": "code",
   "execution_count": 31,
   "id": "7e37447a",
   "metadata": {},
   "outputs": [
    {
     "name": "stdout",
     "output_type": "stream",
     "text": [
      "0,1,2\n"
     ]
    }
   ],
   "source": [
    "print(*(i for i in range(3)),sep=\",\")"
   ]
  },
  {
   "cell_type": "code",
   "execution_count": 36,
   "id": "c6e90fb1",
   "metadata": {},
   "outputs": [
    {
     "name": "stdout",
     "output_type": "stream",
     "text": [
      "8,40320\n"
     ]
    }
   ],
   "source": [
    "def factorial_2(n):\n",
    "    fact = 1\n",
    "    i = 1\n",
    "    while i <= n:\n",
    "        fact *= i\n",
    "        i += 1\n",
    "    print(n, fact, sep=\",\")\n",
    "\n",
    "factorial_2(8) \n",
    "    \n",
    "        "
   ]
  },
  {
   "cell_type": "code",
   "execution_count": 41,
   "id": "cc8c37db",
   "metadata": {},
   "outputs": [
    {
     "data": {
      "text/plain": [
       "40320"
      ]
     },
     "execution_count": 41,
     "metadata": {},
     "output_type": "execute_result"
    }
   ],
   "source": [
    "def factorial_3(n):\n",
    "    if n < 1:\n",
    "        return 1\n",
    "    else:\n",
    "        return n * factorial_3(n-1)\n",
    "\n",
    "factorial_3(8) \n",
    "    "
   ]
  },
  {
   "cell_type": "markdown",
   "id": "31e79c48",
   "metadata": {},
   "source": [
    "### Question 3\n",
    "#### With a given integral number n, write a program to generate a dictionary that contains (i, i x i) such that is an integral number between 1 and n (both included). and then the program should print the dictionary.Suppose the following input is supplied to the program: 8"
   ]
  },
  {
   "cell_type": "code",
   "execution_count": 43,
   "id": "9ce7c319",
   "metadata": {},
   "outputs": [
    {
     "data": {
      "text/plain": [
       "{1: 1, 2: 4, 3: 9, 4: 16, 5: 25, 6: 36, 7: 49, 8: 64}"
      ]
     },
     "execution_count": 43,
     "metadata": {},
     "output_type": "execute_result"
    }
   ],
   "source": [
    "def intwithSqure(n):\n",
    "    result ={}\n",
    "    for i in range(1,n+1):\n",
    "        result [i] = i*i\n",
    "    return result\n",
    "\n",
    "intwithSqure(8)"
   ]
  },
  {
   "cell_type": "code",
   "execution_count": 44,
   "id": "2ca2fb43",
   "metadata": {},
   "outputs": [
    {
     "data": {
      "text/plain": [
       "{1: 1, 2: 4, 3: 9, 4: 16, 5: 25, 6: 36, 7: 49, 8: 64}"
      ]
     },
     "execution_count": 44,
     "metadata": {},
     "output_type": "execute_result"
    }
   ],
   "source": [
    "def intwithSqure2(n):\n",
    "    return {i: i*i for i in range(1,n+1)}\n",
    "intwithSqure2(8)"
   ]
  },
  {
   "cell_type": "markdown",
   "id": "cc76772b",
   "metadata": {},
   "source": [
    "### Question 4\n",
    "#### Write a program which accepts a sequence of comma-separated numbers from console and generate a list and a tuple which contains every number.Suppose the following input is supplied to the program:"
   ]
  },
  {
   "cell_type": "code",
   "execution_count": 46,
   "id": "94751cbf",
   "metadata": {},
   "outputs": [
    {
     "name": "stdout",
     "output_type": "stream",
     "text": [
      "34,67,55,33,12,98\n",
      "['34', '67', '55', '33', '12', '98']\n",
      "('34', '67', '55', '33', '12', '98')\n"
     ]
    }
   ],
   "source": [
    "lst = input().split(\",\")\n",
    "tpl = tuple (lst)\n",
    "print(lst)\n",
    "print(tpl)\n"
   ]
  },
  {
   "cell_type": "markdown",
   "id": "d1b1a3a1",
   "metadata": {},
   "source": [
    "### Question 5\n",
    "#### Define a class which has at least two methods:\n",
    "\n",
    "#### getString: to get a string from console input\n",
    "#### printString: to print the string in upper case.\n",
    "#### Also please include simple test function to test the class methods."
   ]
  },
  {
   "cell_type": "code",
   "execution_count": 49,
   "id": "5c41ce0a",
   "metadata": {},
   "outputs": [
    {
     "name": "stdout",
     "output_type": "stream",
     "text": [
      "terst\n",
      "TERST\n"
     ]
    }
   ],
   "source": [
    "class IOstring:\n",
    "    def __init__(self):\n",
    "        pass\n",
    "    def getString(self):\n",
    "        self.s = input()\n",
    "    def printSting(self):\n",
    "        print(self.s.upper())\n",
    "\n",
    "xx = IOstring()\n",
    "xx.getString()\n",
    "xx.printSting()\n",
    "    \n",
    "    "
   ]
  },
  {
   "cell_type": "code",
   "execution_count": 63,
   "id": "4447b914",
   "metadata": {},
   "outputs": [
    {
     "name": "stdout",
     "output_type": "stream",
     "text": [
      "100,150,180\n",
      "18,22,24\n"
     ]
    }
   ],
   "source": [
    "from math import sqrt\n",
    "C, H = 50, 30\n",
    "\n",
    "def calc(D):\n",
    "    return sqrt((2 * C * D) / H)\n",
    "\n",
    "D = [int(i) for i in input().split(\",\")]\n",
    "D = [int(i) for i in D]\n",
    "D = [calc(i) for i in D]\n",
    "D = [round(i) for i in D]\n",
    "D = [str(i) for i in D]\n",
    "print(\",\".join(D))"
   ]
  },
  {
   "cell_type": "code",
   "execution_count": 64,
   "id": "fa6c96eb",
   "metadata": {},
   "outputs": [
    {
     "name": "stdout",
     "output_type": "stream",
     "text": [
      "100,150,180\n",
      "18,22,24\n"
     ]
    }
   ],
   "source": [
    "from math import *  # importing all math functions\n",
    "\n",
    "C, H = 50, 30\n",
    "\n",
    "\n",
    "def calc(D):\n",
    "    D = int(D)\n",
    "    return str(int(sqrt((2 * C * D) / H)))\n",
    "\n",
    "\n",
    "D = input().split(\",\")\n",
    "D = list(map(calc, D))  # applying calc function on D and storing as a list\n",
    "print(\",\".join(D))\n"
   ]
  },
  {
   "cell_type": "markdown",
   "id": "c225a3f8",
   "metadata": {},
   "source": [
    "#### Question 7\n",
    "#### Write a program which takes 2 digits, X,Y as input and generates a 2-dimensional array. The element value in the i-th row and j-th column of the array should be i _ j.*\n",
    "#### Note: i=0,1.., X-1; j=0,1,¡­Y-1. Suppose the following inputs are given to the program: 3,5 Then, the output of the program should be:"
   ]
  },
  {
   "cell_type": "code",
   "execution_count": 69,
   "id": "658bca62",
   "metadata": {},
   "outputs": [
    {
     "name": "stdout",
     "output_type": "stream",
     "text": [
      "3,5\n",
      "[[0, 0, 0, 0, 0], [0, 1, 2, 3, 4], [0, 2, 4, 6, 8]]\n"
     ]
    }
   ],
   "source": [
    "x, y = map(int, input().split(\",\"))\n",
    "\n",
    "lst = []\n",
    "for i in range(x):\n",
    "    tmp = []\n",
    "    for j in range(y):\n",
    "        tmp.append(i*j)\n",
    "    lst.append(tmp)\n",
    "\n",
    "print(lst)\n",
    "    \n",
    "    "
   ]
  },
  {
   "cell_type": "code",
   "execution_count": 70,
   "id": "985e2346",
   "metadata": {},
   "outputs": [
    {
     "name": "stdout",
     "output_type": "stream",
     "text": [
      "3,5\n",
      "[[0, 0, 0, 0, 0], [0, 1, 2, 3, 4], [0, 2, 4, 6, 8]]\n"
     ]
    }
   ],
   "source": [
    "x, y = map(int, input().split(\",\"))\n",
    "lst = [[i*j for j in range(y)] for i in range(x)]\n",
    "print(lst)"
   ]
  },
  {
   "cell_type": "markdown",
   "id": "4d2c7c26",
   "metadata": {},
   "source": [
    "### Question 8\n",
    "#### Write a program that accepts a comma separated sequence of words as input and prints the words in a comma-separated sequence after sorting them alphabetically.Suppose the following input is supplied to the program:"
   ]
  },
  {
   "cell_type": "code",
   "execution_count": 74,
   "id": "293ef0ff",
   "metadata": {},
   "outputs": [
    {
     "name": "stdout",
     "output_type": "stream",
     "text": [
      "cp,bag,hello,without,world\n",
      "bag,cp,hello,without,world\n"
     ]
    }
   ],
   "source": [
    "lst = input().split(\",\")\n",
    "lst.sort()\n",
    "print(\",\".join(lst))"
   ]
  },
  {
   "cell_type": "markdown",
   "id": "da298663",
   "metadata": {},
   "source": [
    "#### Question 9\n",
    "\n",
    "#### Write a program that accepts sequence of lines as input and prints the lines after making all characters in the sentence capitalized.Suppose the following input is supplied to the program:\n",
    "\n",
    "#### Hello world Practice makes perfect Then, the output should be:"
   ]
  },
  {
   "cell_type": "code",
   "execution_count": 78,
   "id": "b9546405",
   "metadata": {},
   "outputs": [
    {
     "name": "stdout",
     "output_type": "stream",
     "text": [
      " Hello world\n",
      "Practice makes perfect\n",
      "\n",
      "PRACTICE MAKES PERFECT\n"
     ]
    }
   ],
   "source": [
    "lst = []\n",
    "\n",
    "while input():\n",
    "    x = input()\n",
    "    if len(x) == 0:\n",
    "        break\n",
    "    else:\n",
    "        lst.append(x.upper())\n",
    "\n",
    "for line in lst:\n",
    "    print(line)\n",
    "        "
   ]
  },
  {
   "cell_type": "code",
   "execution_count": 79,
   "id": "51b0377e",
   "metadata": {},
   "outputs": [
    {
     "name": "stdout",
     "output_type": "stream",
     "text": [
      "Hello world\n",
      "HELLO WORLD\n",
      "Practice makes perfect\n",
      "PRACTICE MAKES PERFECT\n",
      "\n"
     ]
    }
   ],
   "source": [
    "def user_input():\n",
    "    while True:\n",
    "        s = input()\n",
    "        if not s:\n",
    "            return\n",
    "        yield s\n",
    "\n",
    "\n",
    "for line in map(str.upper, user_input()):\n",
    "    print(line)\n",
    "    "
   ]
  },
  {
   "cell_type": "code",
   "execution_count": 89,
   "id": "daa83818",
   "metadata": {},
   "outputs": [
    {
     "name": "stdout",
     "output_type": "stream",
     "text": [
      "test was invoked\n"
     ]
    }
   ],
   "source": [
    "def test ():\n",
    "   print (\"test was invoked\")\n",
    "\n",
    "def invoker(func):\n",
    "   func()\n",
    "\n",
    "invoker(test)  # prints test was invoked\n",
    "\n",
    "\n",
    "    "
   ]
  },
  {
   "cell_type": "markdown",
   "id": "3bf4a1e4",
   "metadata": {},
   "source": [
    "#### Question 10\n",
    "#### Write a program that accepts a sequence of whitespace separated words as input and prints the words after removing all duplicate words and sorting them alphanumerically."
   ]
  },
  {
   "cell_type": "code",
   "execution_count": 97,
   "id": "d718c52a",
   "metadata": {},
   "outputs": [
    {
     "name": "stdout",
     "output_type": "stream",
     "text": [
      "hello world and practice makes perfect and hello world again\n",
      "again and hello makes perfect practice world\n"
     ]
    }
   ],
   "source": [
    "word = input().split()\n",
    "\n",
    "for i in word:\n",
    "    if word.count(i) > 1:\n",
    "        word.remove(i)  \n",
    "\n",
    "word.sort()\n",
    "print(\" \".join(word))\n"
   ]
  },
  {
   "cell_type": "code",
   "execution_count": 101,
   "id": "454c637e",
   "metadata": {},
   "outputs": [
    {
     "name": "stdout",
     "output_type": "stream",
     "text": [
      "hello world and practice makes perfect and hello world again\n",
      "again and hello makes perfect practice world\n"
     ]
    }
   ],
   "source": [
    "word = sorted(list(set(input().split(\" \"))))\n",
    "print(\" \".join(word))"
   ]
  },
  {
   "cell_type": "markdown",
   "id": "7ec2ebba",
   "metadata": {},
   "source": [
    "#### Question 11\n",
    "#### Write a program which accepts a sequence of comma separated 4 digit binary numbers as its input and then check whether they are divisible by 5 or not. The numbers that are divisible by 5 are to be printed in a comma separated sequence."
   ]
  },
  {
   "cell_type": "code",
   "execution_count": 103,
   "id": "5227647a",
   "metadata": {},
   "outputs": [
    {
     "name": "stdout",
     "output_type": "stream",
     "text": [
      "0100,0011,1010,1001\n",
      "1010\n"
     ]
    }
   ],
   "source": [
    "def check(x):\n",
    "    if int(x,2)% 5 == 0:\n",
    "        return x\n",
    "\n",
    "data = input().split(\",\")\n",
    "data = list(filter(check, data))\n",
    "print(\",\".join(data))"
   ]
  },
  {
   "cell_type": "code",
   "execution_count": 106,
   "id": "a8036be1",
   "metadata": {},
   "outputs": [
    {
     "name": "stdout",
     "output_type": "stream",
     "text": [
      "0100,0011,1010,1001\n",
      "1010\n"
     ]
    }
   ],
   "source": [
    "data = input().split(\",\")\n",
    "data = list(filter(lambda i: int(i,2) % 5 ==0, data))\n",
    "print(\",\".join(data))"
   ]
  },
  {
   "cell_type": "markdown",
   "id": "483f8316",
   "metadata": {},
   "source": [
    "#### Question 12\n",
    "#### Write a program, which will find all such numbers between 1000 and 3000 (both included) such that each digit of the number is an even number.The numbers obtained should be printed in a comma-separated sequence on a single line."
   ]
  },
  {
   "cell_type": "code",
   "execution_count": 111,
   "id": "e1c78051",
   "metadata": {},
   "outputs": [
    {
     "name": "stdout",
     "output_type": "stream",
     "text": [
      "2000,2002,2004,2006,2008,2020,2022,2024,2026,2028,2040,2042,2044,2046,2048,2060,2062,2064,2066,2068,2080,2082,2084,2086,2088,2200,2202,2204,2206,2208,2220,2222,2224,2226,2228,2240,2242,2244,2246,2248,2260,2262,2264,2266,2268,2280,2282,2284,2286,2288,2400,2402,2404,2406,2408,2420,2422,2424,2426,2428,2440,2442,2444,2446,2448,2460,2462,2464,2466,2468,2480,2482,2484,2486,2488,2600,2602,2604,2606,2608,2620,2622,2624,2626,2628,2640,2642,2644,2646,2648,2660,2662,2664,2666,2668,2680,2682,2684,2686,2688,2800,2802,2804,2806,2808,2820,2822,2824,2826,2828,2840,2842,2844,2846,2848,2860,2862,2864,2866,2868,2880,2882,2884,2886,2888\n"
     ]
    }
   ],
   "source": [
    "lst1 = []\n",
    "\n",
    "for i in range(1000, 3001):\n",
    "    flag = 1\n",
    "    for j in str(i):\n",
    "        if ord(j) % 2 != 0:\n",
    "            flag = 0\n",
    "    if flag == 1:\n",
    "        lst1.append(str(i))\n",
    "print(\",\".join(lst1))"
   ]
  },
  {
   "cell_type": "code",
   "execution_count": 115,
   "id": "ea008948",
   "metadata": {},
   "outputs": [
    {
     "name": "stdout",
     "output_type": "stream",
     "text": [
      "2000,2002,2004,2006,2008,2020,2022,2024,2026,2028,2040,2042,2044,2046,2048,2060,2062,2064,2066,2068,2080,2082,2084,2086,2088,2200,2202,2204,2206,2208,2220,2222,2224,2226,2228,2240,2242,2244,2246,2248,2260,2262,2264,2266,2268,2280,2282,2284,2286,2288,2400,2402,2404,2406,2408,2420,2422,2424,2426,2428,2440,2442,2444,2446,2448,2460,2462,2464,2466,2468,2480,2482,2484,2486,2488,2600,2602,2604,2606,2608,2620,2622,2624,2626,2628,2640,2642,2644,2646,2648,2660,2662,2664,2666,2668,2680,2682,2684,2686,2688,2800,2802,2804,2806,2808,2820,2822,2824,2826,2828,2840,2842,2844,2846,2848,2860,2862,2864,2866,2868,2880,2882,2884,2886,2888\n"
     ]
    }
   ],
   "source": [
    "def check_fun(element):\n",
    "    return all (ord(i) % 2 == 0 for i in element)\n",
    "\n",
    "lst = [str(i) for i in range(1000, 3001)]\n",
    "lst =  filter(check_fun, lst)\n",
    "print(\",\".join(lst))"
   ]
  },
  {
   "cell_type": "code",
   "execution_count": 120,
   "id": "f8e78e02",
   "metadata": {},
   "outputs": [
    {
     "name": "stdout",
     "output_type": "stream",
     "text": [
      "2000,2002,2004,2006,2008,2020,2022,2024,2026,2028,2040,2042,2044,2046,2048,2060,2062,2064,2066,2068,2080,2082,2084,2086,2088,2200,2202,2204,2206,2208,2220,2222,2224,2226,2228,2240,2242,2244,2246,2248,2260,2262,2264,2266,2268,2280,2282,2284,2286,2288,2400,2402,2404,2406,2408,2420,2422,2424,2426,2428,2440,2442,2444,2446,2448,2460,2462,2464,2466,2468,2480,2482,2484,2486,2488,2600,2602,2604,2606,2608,2620,2622,2624,2626,2628,2640,2642,2644,2646,2648,2660,2662,2664,2666,2668,2680,2682,2684,2686,2688,2800,2802,2804,2806,2808,2820,2822,2824,2826,2828,2840,2842,2844,2846,2848,2860,2862,2864,2866,2868,2880,2882,2884,2886,2888\n"
     ]
    }
   ],
   "source": [
    "lst = list(str(i) for i in range(1000, 3001))\n",
    "lst = filter(lambda i: all(ord(j)%2==0 for j in i),lst)\n",
    "print(\",\".join(lst))"
   ]
  },
  {
   "cell_type": "markdown",
   "id": "c306ffc3",
   "metadata": {},
   "source": [
    "#### Question 13\n",
    "\n",
    "#### Write a program that accepts a sentence and calculate the number of letters and digits. Suppose the following input is supplied to the program:"
   ]
  },
  {
   "cell_type": "code",
   "execution_count": 122,
   "id": "845a26b9",
   "metadata": {},
   "outputs": [
    {
     "name": "stdout",
     "output_type": "stream",
     "text": [
      "hello world! 123\n",
      "LETTERS 10\n",
      "DIGITS 3\n"
     ]
    }
   ],
   "source": [
    "word = input()\n",
    "letter, digit = 0,0 \n",
    "for i in word:\n",
    "    if ( \"a\" <= i and i <=\"z\") or (\"A\" <= i and i <= \"Z\"):\n",
    "        letter += 1\n",
    "    if \"0\" <= i and i <= \"9\":\n",
    "        digit += 1\n",
    "print(\"LETTERS {0}\\nDIGITS {1}\".format(letter, digit))"
   ]
  },
  {
   "cell_type": "code",
   "execution_count": 126,
   "id": "88c9bdc5",
   "metadata": {},
   "outputs": [
    {
     "name": "stdout",
     "output_type": "stream",
     "text": [
      "helloe world! 123\n",
      "LETTERS 11\n",
      "DIGITS 3\n"
     ]
    }
   ],
   "source": [
    "word = input()\n",
    "letter, digit = 0,0 \n",
    "for i in word:\n",
    "    if i.isalpha():\n",
    "       letter += 1\n",
    "    elif i.isnumeric():\n",
    "        digit += 1\n",
    "print(\"LETTERS {0}\\nDIGITS {1}\".format(letter, digit))"
   ]
  },
  {
   "cell_type": "code",
   "execution_count": null,
   "id": "4293ab99",
   "metadata": {},
   "outputs": [],
   "source": []
  }
 ],
 "metadata": {
  "kernelspec": {
   "display_name": "Python 3 (ipykernel)",
   "language": "python",
   "name": "python3"
  },
  "language_info": {
   "codemirror_mode": {
    "name": "ipython",
    "version": 3
   },
   "file_extension": ".py",
   "mimetype": "text/x-python",
   "name": "python",
   "nbconvert_exporter": "python",
   "pygments_lexer": "ipython3",
   "version": "3.11.5"
  }
 },
 "nbformat": 4,
 "nbformat_minor": 5
}
